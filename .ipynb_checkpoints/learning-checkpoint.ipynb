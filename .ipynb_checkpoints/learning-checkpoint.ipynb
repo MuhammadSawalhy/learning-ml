{
 "cells": [
  {
   "cell_type": "code",
   "execution_count": 1,
   "metadata": {},
   "outputs": [],
   "source": [
    "import pandas as pd\n",
    "import tensorflow as tf\n",
    "import numpy as np\n",
    "from sklearn import model_selection, linear_model"
   ]
  },
  {
   "cell_type": "code",
   "execution_count": 2,
   "metadata": {},
   "outputs": [],
   "source": [
    "data = pd.read_csv('./students-data/student-mat.csv', sep=';')"
   ]
  },
  {
   "cell_type": "code",
   "execution_count": 3,
   "metadata": {},
   "outputs": [],
   "source": [
    "data = data[[\"G1\", \"G2\", \"G3\", \"studytime\", \"failures\", \"absences\"]]"
   ]
  },
  {
   "cell_type": "code",
   "execution_count": 4,
   "metadata": {},
   "outputs": [],
   "source": [
    "to_predict = 'G3'"
   ]
  },
  {
   "cell_type": "code",
   "execution_count": 5,
   "metadata": {},
   "outputs": [],
   "source": [
    "x = np.array(data.drop([to_predict], 1))\n",
    "y = np.array(data[to_predict])\n",
    "# take 10% of the data for testing for both x and y\n",
    "x_train, x_test, y_train, y_test = model_selection.train_test_split(x, y, test_size=0.1)"
   ]
  },
  {
   "cell_type": "code",
   "execution_count": 6,
   "metadata": {},
   "outputs": [
    {
     "name": "stdout",
     "output_type": "stream",
     "text": [
      "accuracy: 0.8865242143265661\n"
     ]
    }
   ],
   "source": [
    "# using data to train and test\n",
    "linear = linear_model.LinearRegression()\n",
    "linear.fit(x_train, y_train)\n",
    "acc = linear.score(x_test, y_test) # accuracy\n",
    "print(\"accuracy:\", acc)"
   ]
  },
  {
   "cell_type": "code",
   "execution_count": 7,
   "metadata": {},
   "outputs": [],
   "source": [
    "predicts = linear.predict(x_test)"
   ]
  },
  {
   "cell_type": "code",
   "execution_count": 8,
   "metadata": {
    "collapsed": true,
    "jupyter": {
     "outputs_hidden": true
    }
   },
   "outputs": [
    {
     "name": "stdout",
     "output_type": "stream",
     "text": [
      "9.197051655500774 ,  10\n",
      "10.652396942570762 ,  11\n",
      "6.128287040966423 ,  8\n",
      "6.25297111973318 ,  8\n",
      "4.552332721255736 ,  5\n",
      "13.941216852634513 ,  14\n",
      "6.426587463831332 ,  10\n",
      "8.244538927497718 ,  0\n",
      "10.496161751328577 ,  12\n",
      "-0.5509555513877442 ,  0\n",
      "5.882993929558967 ,  7\n",
      "12.120287081702147 ,  12\n",
      "10.265589145696884 ,  12\n",
      "12.93557087887705 ,  12\n",
      "12.610555644331281 ,  13\n",
      "9.333181632218393 ,  9\n",
      "10.275577269269734 ,  11\n",
      "9.223618278377977 ,  10\n",
      "-0.5042837139859744 ,  0\n",
      "8.612340463957565 ,  9\n",
      "10.109353954454697 ,  11\n",
      "19.149568982886016 ,  18\n",
      "9.353286846742959 ,  10\n",
      "5.4294090807587505 ,  6\n",
      "6.666726614258442 ,  5\n",
      "-0.9729892877125317 ,  0\n",
      "10.496161751328577 ,  11\n",
      "18.177565001103098 ,  18\n",
      "11.928825951009053 ,  13\n",
      "14.253687235118884 ,  14\n",
      "15.64723995986076 ,  15\n",
      "13.07926121805784 ,  13\n",
      "12.24691392821275 ,  12\n",
      "15.184151980853526 ,  16\n",
      "17.23371158967374 ,  17\n",
      "8.50277711011715 ,  9\n",
      "17.124148235833324 ,  17\n",
      "11.197996659175374 ,  12\n",
      "-0.8634259338721157 ,  0\n",
      "10.419352382665778 ,  11\n"
     ]
    }
   ],
   "source": [
    "for i in range(len(predicts)):\n",
    "    print(predicts[i], ', ', y_test[i])"
   ]
  },
  {
   "cell_type": "code",
   "execution_count": null,
   "metadata": {},
   "outputs": [],
   "source": []
  }
 ],
 "metadata": {
  "kernelspec": {
   "display_name": "Python 3",
   "language": "python",
   "name": "python3"
  },
  "language_info": {
   "codemirror_mode": {
    "name": "ipython",
    "version": 3
   },
   "file_extension": ".py",
   "mimetype": "text/x-python",
   "name": "python",
   "nbconvert_exporter": "python",
   "pygments_lexer": "ipython3",
   "version": "3.6.8"
  }
 },
 "nbformat": 4,
 "nbformat_minor": 4
}
